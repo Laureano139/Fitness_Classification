{
 "cells": [
  {
   "cell_type": "markdown",
   "id": "5e95559c",
   "metadata": {},
   "source": [
    "# Fitness Classification Model"
   ]
  },
  {
   "cell_type": "markdown",
   "id": "438be4d1",
   "metadata": {},
   "source": [
    "## Import dataset"
   ]
  },
  {
   "cell_type": "code",
   "execution_count": 91,
   "id": "73cbdd36",
   "metadata": {},
   "outputs": [
    {
     "name": "stdout",
     "output_type": "stream",
     "text": [
      "Path to dataset files: C:\\Users\\ASUS\\.cache\\kagglehub\\datasets\\muhammedderric\\fitness-classification-dataset-synthetic\\versions\\1\n",
      "['dataset-metadata.json', 'fitness_dataset.csv', 'README.md']\n",
      "   age  height_cm  weight_kg  heart_rate  blood_pressure  sleep_hours  \\\n",
      "0   56        152         65        69.6           117.0          NaN   \n",
      "1   69        186         95        60.8           114.8          7.5   \n",
      "2   46        192        103        61.4           116.4          NaN   \n",
      "3   32        189         83        60.2           130.1          7.0   \n",
      "4   60        175         99        58.1           115.8          8.0   \n",
      "\n",
      "   nutrition_quality  activity_index smokes gender  is_fit  \n",
      "0               2.37            3.97     no      F       1  \n",
      "1               8.77            3.19      0      F       1  \n",
      "2               8.20            2.03      0      F       0  \n",
      "3               6.18            3.68      0      M       1  \n",
      "4               9.95            4.83    yes      F       1  \n"
     ]
    }
   ],
   "source": [
    "import kagglehub\n",
    "import os\n",
    "import pandas as pd\n",
    "\n",
    "path = kagglehub.dataset_download(\"muhammedderric/fitness-classification-dataset-synthetic\")\n",
    "\n",
    "print(\"Path to dataset files:\", path)\n",
    "print(os.listdir(path))\n",
    "\n",
    "file_name = 'fitness_dataset.csv'\n",
    "df = pd.read_csv(os.path.join(path, file_name))\n",
    "\n",
    "print(df.head())\n"
   ]
  },
  {
   "cell_type": "markdown",
   "id": "58fe2503",
   "metadata": {},
   "source": [
    "## Dataset structure"
   ]
  },
  {
   "cell_type": "code",
   "execution_count": 92,
   "id": "8ece609c",
   "metadata": {},
   "outputs": [
    {
     "name": "stdout",
     "output_type": "stream",
     "text": [
      "(2000, 11)\n",
      "<class 'pandas.core.frame.DataFrame'>\n",
      "RangeIndex: 2000 entries, 0 to 1999\n",
      "Data columns (total 11 columns):\n",
      " #   Column             Non-Null Count  Dtype  \n",
      "---  ------             --------------  -----  \n",
      " 0   age                2000 non-null   int64  \n",
      " 1   height_cm          2000 non-null   int64  \n",
      " 2   weight_kg          2000 non-null   int64  \n",
      " 3   heart_rate         2000 non-null   float64\n",
      " 4   blood_pressure     2000 non-null   float64\n",
      " 5   sleep_hours        1840 non-null   float64\n",
      " 6   nutrition_quality  2000 non-null   float64\n",
      " 7   activity_index     2000 non-null   float64\n",
      " 8   smokes             2000 non-null   object \n",
      " 9   gender             2000 non-null   object \n",
      " 10  is_fit             2000 non-null   int64  \n",
      "dtypes: float64(5), int64(4), object(2)\n",
      "memory usage: 172.0+ KB\n",
      "None\n",
      "               age   height_cm    weight_kg   heart_rate  blood_pressure  \\\n",
      "count  2000.000000  2000.00000  2000.000000  2000.000000     2000.000000   \n",
      "mean     49.114000   174.53300    83.540500    70.288600      119.908850   \n",
      "std      17.926564    14.37175    25.852534    11.846339       14.578032   \n",
      "min      18.000000   150.00000    30.000000    45.000000       90.000000   \n",
      "25%      34.000000   162.00000    64.000000    62.100000      109.700000   \n",
      "50%      49.000000   174.00000    83.000000    70.250000      120.000000   \n",
      "75%      65.000000   187.00000   102.000000    78.425000      129.800000   \n",
      "max      79.000000   199.00000   250.000000   118.600000      171.200000   \n",
      "\n",
      "       sleep_hours  nutrition_quality  activity_index       is_fit  \n",
      "count  1840.000000        2000.000000     2000.000000  2000.000000  \n",
      "mean      7.513315           5.035140        2.999040     0.399500  \n",
      "std       1.502031           2.864156        1.136383     0.489918  \n",
      "min       4.000000           0.000000        1.000000     0.000000  \n",
      "25%       6.500000           2.547500        2.037500     0.000000  \n",
      "50%       7.500000           5.065000        2.980000     0.000000  \n",
      "75%       8.600000           7.470000        3.950000     1.000000  \n",
      "max      12.000000          10.000000        4.990000     1.000000  \n"
     ]
    }
   ],
   "source": [
    "# Number of lines & cols\n",
    "print(df.shape)\n",
    "\n",
    "# Data types\n",
    "print(df.info())\n",
    "\n",
    "# Numerical vars stats\n",
    "print(df.describe())"
   ]
  },
  {
   "cell_type": "markdown",
   "id": "8335e264",
   "metadata": {},
   "source": [
    "## Missing Values"
   ]
  },
  {
   "cell_type": "code",
   "execution_count": 93,
   "id": "c9440a60",
   "metadata": {},
   "outputs": [
    {
     "name": "stdout",
     "output_type": "stream",
     "text": [
      "age                    0\n",
      "height_cm              0\n",
      "weight_kg              0\n",
      "heart_rate             0\n",
      "blood_pressure         0\n",
      "sleep_hours          160\n",
      "nutrition_quality      0\n",
      "activity_index         0\n",
      "smokes                 0\n",
      "gender                 0\n",
      "is_fit                 0\n",
      "dtype: int64\n"
     ]
    }
   ],
   "source": [
    "print(df.isnull().sum())"
   ]
  },
  {
   "cell_type": "markdown",
   "id": "d49eb6ee",
   "metadata": {},
   "source": [
    "Class imbalance verification"
   ]
  },
  {
   "cell_type": "code",
   "execution_count": 94,
   "id": "3bc46421",
   "metadata": {},
   "outputs": [
    {
     "name": "stdout",
     "output_type": "stream",
     "text": [
      "is_fit\n",
      "0    1201\n",
      "1     799\n",
      "Name: count, dtype: int64\n"
     ]
    }
   ],
   "source": [
    "print(df['is_fit'].value_counts())"
   ]
  },
  {
   "cell_type": "markdown",
   "id": "0b2b62be",
   "metadata": {},
   "source": [
    "## Label Encoding of categorical attributes (smokes and gender)"
   ]
  },
  {
   "cell_type": "markdown",
   "id": "c2965646",
   "metadata": {},
   "source": [
    "The \"smokes\" column, has ambiguous values. \n",
    "0 -> Means that the person does not smoke\n",
    "1 -> Means that the person smokes\n",
    "no -> Means that the person does not smoke\n",
    "yes -> Means that the person smokes\n",
    "\n",
    "So, I find necessary to apply a map function, converting zeros (0) and ones (1) into no or yes.\n",
    "\n",
    "After that, the attribute is ready to Label Encode."
   ]
  },
  {
   "cell_type": "code",
   "execution_count": 95,
   "id": "bde9ef26",
   "metadata": {},
   "outputs": [
    {
     "name": "stdout",
     "output_type": "stream",
     "text": [
      "smokes\n",
      "yes    711\n",
      "0      581\n",
      "no     518\n",
      "1      190\n",
      "Name: count, dtype: int64\n",
      "['no' 'yes']\n",
      "  smokes  smokesEncoded\n",
      "0     no              0\n",
      "1     no              0\n",
      "2     no              0\n",
      "3     no              0\n",
      "4    yes              1\n",
      "5    yes              1\n",
      "6    yes              1\n",
      "7     no              0\n",
      "8     no              0\n",
      "9     no              0\n"
     ]
    }
   ],
   "source": [
    "from sklearn.preprocessing import LabelEncoder\n",
    "\n",
    "print(df['smokes'].value_counts())\n",
    "\n",
    "mapping = {\n",
    "    \"0\": 'no',\n",
    "    \"1\": 'yes',\n",
    "    'no': 'no',\n",
    "    'yes': 'yes'\n",
    "}\n",
    "\n",
    "df['smokes'] = df['smokes'].astype(str).map(mapping)\n",
    "\n",
    "le = LabelEncoder()\n",
    "df['smokesEncoded'] = le.fit_transform(df['smokes'])\n",
    "print(le.classes_)\n",
    "print(df[['smokes', 'smokesEncoded']].head(10))"
   ]
  },
  {
   "cell_type": "markdown",
   "id": "ae6efc09",
   "metadata": {},
   "source": [
    "Now, I will apply the Label Encoding to the gender column.\n",
    "Female -> 0\n",
    "Male -> 1"
   ]
  },
  {
   "cell_type": "code",
   "execution_count": 96,
   "id": "437ec5fe",
   "metadata": {},
   "outputs": [
    {
     "name": "stdout",
     "output_type": "stream",
     "text": [
      "gender\n",
      "F    1030\n",
      "M     970\n",
      "Name: count, dtype: int64\n",
      "['F' 'M']\n",
      "  gender  genderEncoded\n",
      "0      F              0\n",
      "1      F              0\n",
      "2      F              0\n",
      "3      M              1\n",
      "4      F              0\n",
      "5      M              1\n",
      "6      F              0\n",
      "7      M              1\n",
      "8      F              0\n",
      "9      F              0\n"
     ]
    }
   ],
   "source": [
    "print(df['gender'].value_counts())\n",
    "\n",
    "le2 = LabelEncoder()\n",
    "df['genderEncoded'] = le2.fit_transform(df['gender'])\n",
    "print(le2.classes_)\n",
    "print(df[['gender', 'genderEncoded']].head(10))"
   ]
  },
  {
   "cell_type": "markdown",
   "id": "9ec5c36e",
   "metadata": {},
   "source": [
    "## Delete pre-encoded columns (gender and smokes)"
   ]
  },
  {
   "cell_type": "code",
   "execution_count": 97,
   "id": "0ee262a9",
   "metadata": {},
   "outputs": [],
   "source": [
    "cols2del = ['gender', 'smokes']\n",
    "df = df.drop(columns=cols2del)"
   ]
  },
  {
   "cell_type": "markdown",
   "id": "b793822b",
   "metadata": {},
   "source": [
    "## Handling Missing Values"
   ]
  },
  {
   "cell_type": "markdown",
   "id": "6c8d9dfc",
   "metadata": {},
   "source": [
    "So, the sleep_hours attribute has some rows with missing values.\n",
    "I will make the decision of dropping those rows, because I want the prediction to be as accurate as possible and I don't want to induce a possible error!"
   ]
  },
  {
   "cell_type": "code",
   "execution_count": 98,
   "id": "eb05f846",
   "metadata": {},
   "outputs": [
    {
     "name": "stdout",
     "output_type": "stream",
     "text": [
      "(1840, 11)\n"
     ]
    }
   ],
   "source": [
    "df.dropna(axis=0, inplace=True)\n",
    "print(df.shape)"
   ]
  },
  {
   "cell_type": "markdown",
   "id": "4373d4ef",
   "metadata": {},
   "source": [
    "## Data Plotting and Analysis"
   ]
  },
  {
   "cell_type": "markdown",
   "id": "f7ca4865",
   "metadata": {},
   "source": [
    "I will do boxplots in categories such as age, height, weight, heart rate, blood pressure and sleep hours, so I can see if there is any outlier."
   ]
  },
  {
   "cell_type": "code",
   "execution_count": 99,
   "id": "29cafd58",
   "metadata": {},
   "outputs": [
    {
     "data": {
      "image/png": "[encoded data removed]",
      "text/plain": [
       "<Figure size 640x480 with 1 Axes>"
      ]
     },
     "metadata": {},
     "output_type": "display_data"
    },
    {
     "data": {
      "image/png": "[encoded data removed]",
      "text/plain": [
       "<Figure size 640x480 with 1 Axes>"
      ]
     },
     "metadata": {},
     "output_type": "display_data"
    },
    {
     "data": {
      "image/png": "[encoded data removed]",
      "text/plain": [
       "<Figure size 640x480 with 1 Axes>"
      ]
     },
     "metadata": {},
     "output_type": "display_data"
    },
    {
     "data": {
      "image/png": "[encoded data removed]",
      "text/plain": [
       "<Figure size 640x480 with 1 Axes>"
      ]
     },
     "metadata": {},
     "output_type": "display_data"
    },
    {
     "data": {
      "image/png": "[encoded data removed]",
      "text/plain": [
       "<Figure size 640x480 with 1 Axes>"
      ]
     },
     "metadata": {},
     "output_type": "display_data"
    },
    {
     "data": {
      "image/png": "[encoded data removed]",
      "text/plain": [
       "<Figure size 640x480 with 1 Axes>"
      ]
     },
     "metadata": {},
     "output_type": "display_data"
    }
   ],
   "source": [
    "import matplotlib.pyplot as plt\n",
    "categories_to_boxplot = ['age', 'height_cm', 'weight_kg', 'heart_rate', 'blood_pressure', 'sleep_hours']\n",
    "\n",
    "for category in categories_to_boxplot:\n",
    "    plt.figure()\n",
    "    df.boxplot(column=category)\n",
    "    plt.title(f'Boxplot de {category}')\n",
    "    plt.show()"
   ]
  },
  {
   "cell_type": "markdown",
   "id": "f73d6724",
   "metadata": {},
   "source": [
    "The author of the dataset revealed that the weight column had outliers, so, I will delete the ones detected in the boxplot.\n",
    "\n",
    "Other than that, it is almost impossible to have a resting heart rate much higher than 100, so I will get rid of those rows too.\n",
    "\n",
    "According to blood pressure health graphs, in the Systolic category (category revealed by the author of the dataset), normal values would be between less than 120 and 130 mm HG.\n",
    "\n",
    "Values between 130 and 139 would be Stage 1 hypertension, over 140 would be Stage 2 hypertension and over 180 would cause an hypertension crisis, so, in this case, I will delete the row of the value higher than 160, because it would be almost impossible to have that value without serious concerns!\n",
    "\n",
    "In the sleep_hours column, I will delete the every register higher than 10, only because I think that it is impossible to, consistently, sleep more than 10 hours straight."
   ]
  },
  {
   "cell_type": "markdown",
   "id": "8575d0fd",
   "metadata": {},
   "source": [
    "### Weight outliers drop"
   ]
  },
  {
   "cell_type": "code",
   "execution_count": 100,
   "id": "d88cc04b",
   "metadata": {},
   "outputs": [
    {
     "name": "stdout",
     "output_type": "stream",
     "text": [
      "(1828, 11)\n"
     ]
    }
   ],
   "source": [
    "df = df[df['weight_kg'] <= 200]\n",
    "print(df.shape)"
   ]
  },
  {
   "cell_type": "markdown",
   "id": "e1e0cb15",
   "metadata": {},
   "source": [
    "### Heart rate outliers drop"
   ]
  },
  {
   "cell_type": "code",
   "execution_count": 101,
   "id": "09416ea3",
   "metadata": {},
   "outputs": [
    {
     "name": "stdout",
     "output_type": "stream",
     "text": [
      "(1811, 11)\n"
     ]
    }
   ],
   "source": [
    "df = df[df['heart_rate'] <= 100]\n",
    "print(df.shape)"
   ]
  },
  {
   "cell_type": "markdown",
   "id": "e2843dd5",
   "metadata": {},
   "source": [
    "### Blood pressure outliers drop"
   ]
  },
  {
   "cell_type": "code",
   "execution_count": 102,
   "id": "8290ccbe",
   "metadata": {},
   "outputs": [
    {
     "name": "stdout",
     "output_type": "stream",
     "text": [
      "(1808, 11)\n"
     ]
    }
   ],
   "source": [
    "df = df[df[\"blood_pressure\"] <= 160]\n",
    "print(df.shape)"
   ]
  },
  {
   "cell_type": "markdown",
   "id": "dd5d92f1",
   "metadata": {},
   "source": [
    "### Sleep hours outliers drop"
   ]
  },
  {
   "cell_type": "code",
   "execution_count": 103,
   "id": "ddd8dd92",
   "metadata": {},
   "outputs": [
    {
     "name": "stdout",
     "output_type": "stream",
     "text": [
      "(1790, 11)\n"
     ]
    }
   ],
   "source": [
    "df = df[df[\"sleep_hours\"] < 11]\n",
    "print(df.shape)"
   ]
  },
  {
   "cell_type": "markdown",
   "id": "3cbe55ad",
   "metadata": {},
   "source": [
    "## Nutrition quality and Activity index values verification"
   ]
  },
  {
   "cell_type": "markdown",
   "id": "c828923f",
   "metadata": {},
   "source": [
    "The author says that in the nutrition quality column, values should be between 0 and 10, and that in the activity index column, between 1 and 5, so lets filter it like that!"
   ]
  },
  {
   "cell_type": "code",
   "execution_count": 104,
   "id": "7630e450",
   "metadata": {},
   "outputs": [
    {
     "name": "stdout",
     "output_type": "stream",
     "text": [
      "Without filtering: (1790, 11)\n",
      "Nutrition quality filtered: (1790, 11)\n",
      "Activity index filtered: (1790, 11)\n"
     ]
    }
   ],
   "source": [
    "print(f\"Without filtering: {df.shape}\")\n",
    "\n",
    "df = df[(0 <= df['nutrition_quality']) & (df['nutrition_quality'] <= 10)]\n",
    "print(f\"Nutrition quality filtered: {df.shape}\")\n",
    "\n",
    "df = df[(0 <= df['activity_index']) & (df['activity_index'] <= 10)]\n",
    "print(f\"Activity index filtered: {df.shape}\")"
   ]
  },
  {
   "cell_type": "markdown",
   "id": "8dedf58b",
   "metadata": {},
   "source": [
    "As we can see, every value in those categories are between the correct interval!"
   ]
  },
  {
   "cell_type": "markdown",
   "id": "6967fa71",
   "metadata": {},
   "source": [
    "## Correlation matrix"
   ]
  },
  {
   "cell_type": "code",
   "execution_count": 105,
   "id": "a1a7058b",
   "metadata": {},
   "outputs": [
    {
     "data": {
      "text/html": [
       "<style type=\"text/css\">\n",
       "#T_fefce_row0_col0, #T_fefce_row1_col1, #T_fefce_row2_col2, #T_fefce_row3_col3, #T_fefce_row4_col4, #T_fefce_row5_col5, #T_fefce_row6_col6, #T_fefce_row7_col7, #T_fefce_row8_col8, #T_fefce_row9_col9, #T_fefce_row10_col10 {\n",
       "  background-color: #b40426;\n",
       "  color: #f1f1f1;\n",
       "}\n",
       "#T_fefce_row0_col1 {\n",
       "  background-color: #506bda;\n",
       "  color: #f1f1f1;\n",
       "}\n",
       "#T_fefce_row0_col2 {\n",
       "  background-color: #5a78e4;\n",
       "  color: #f1f1f1;\n",
       "}\n",
       "#T_fefce_row0_col3, #T_fefce_row1_col3, #T_fefce_row1_col4, #T_fefce_row2_col10 {\n",
       "  background-color: #3c4ec2;\n",
       "  color: #f1f1f1;\n",
       "}\n",
       "#T_fefce_row0_col4, #T_fefce_row2_col6, #T_fefce_row6_col3, #T_fefce_row10_col1 {\n",
       "  background-color: #4358cb;\n",
       "  color: #f1f1f1;\n",
       "}\n",
       "#T_fefce_row0_col5, #T_fefce_row1_col10, #T_fefce_row2_col3, #T_fefce_row2_col7, #T_fefce_row4_col1, #T_fefce_row5_col6, #T_fefce_row5_col7, #T_fefce_row8_col0, #T_fefce_row8_col2, #T_fefce_row8_col4, #T_fefce_row8_col9, #T_fefce_row9_col8 {\n",
       "  background-color: #3b4cc0;\n",
       "  color: #f1f1f1;\n",
       "}\n",
       "#T_fefce_row0_col6, #T_fefce_row3_col6, #T_fefce_row6_col4, #T_fefce_row9_col10, #T_fefce_row10_col6 {\n",
       "  background-color: #465ecf;\n",
       "  color: #f1f1f1;\n",
       "}\n",
       "#T_fefce_row0_col7, #T_fefce_row4_col3, #T_fefce_row5_col1, #T_fefce_row5_col10, #T_fefce_row7_col3, #T_fefce_row7_col4, #T_fefce_row7_col6 {\n",
       "  background-color: #4b64d5;\n",
       "  color: #f1f1f1;\n",
       "}\n",
       "#T_fefce_row0_col8, #T_fefce_row1_col6, #T_fefce_row1_col7, #T_fefce_row3_col2, #T_fefce_row3_col10, #T_fefce_row5_col4, #T_fefce_row6_col7, #T_fefce_row10_col2 {\n",
       "  background-color: #4a63d3;\n",
       "  color: #f1f1f1;\n",
       "}\n",
       "#T_fefce_row0_col9 {\n",
       "  background-color: #82a6fb;\n",
       "  color: #f1f1f1;\n",
       "}\n",
       "#T_fefce_row0_col10 {\n",
       "  background-color: #4257c9;\n",
       "  color: #f1f1f1;\n",
       "}\n",
       "#T_fefce_row1_col0 {\n",
       "  background-color: #7a9df8;\n",
       "  color: #f1f1f1;\n",
       "}\n",
       "#T_fefce_row1_col2 {\n",
       "  background-color: #5673e0;\n",
       "  color: #f1f1f1;\n",
       "}\n",
       "#T_fefce_row1_col5, #T_fefce_row2_col5, #T_fefce_row3_col1, #T_fefce_row3_col5, #T_fefce_row7_col2, #T_fefce_row10_col3 {\n",
       "  background-color: #485fd1;\n",
       "  color: #f1f1f1;\n",
       "}\n",
       "#T_fefce_row1_col8 {\n",
       "  background-color: #96b7ff;\n",
       "  color: #000000;\n",
       "}\n",
       "#T_fefce_row1_col9, #T_fefce_row10_col9 {\n",
       "  background-color: #88abfd;\n",
       "  color: #000000;\n",
       "}\n",
       "#T_fefce_row2_col0, #T_fefce_row7_col9 {\n",
       "  background-color: #80a3fa;\n",
       "  color: #f1f1f1;\n",
       "}\n",
       "#T_fefce_row2_col1, #T_fefce_row4_col2, #T_fefce_row10_col5 {\n",
       "  background-color: #516ddb;\n",
       "  color: #f1f1f1;\n",
       "}\n",
       "#T_fefce_row2_col4, #T_fefce_row3_col7, #T_fefce_row5_col2, #T_fefce_row6_col2, #T_fefce_row9_col1 {\n",
       "  background-color: #4f69d9;\n",
       "  color: #f1f1f1;\n",
       "}\n",
       "#T_fefce_row2_col8 {\n",
       "  background-color: #6f92f3;\n",
       "  color: #f1f1f1;\n",
       "}\n",
       "#T_fefce_row2_col9 {\n",
       "  background-color: #92b4fe;\n",
       "  color: #000000;\n",
       "}\n",
       "#T_fefce_row3_col0, #T_fefce_row4_col8, #T_fefce_row8_col10 {\n",
       "  background-color: #7295f4;\n",
       "  color: #f1f1f1;\n",
       "}\n",
       "#T_fefce_row3_col4 {\n",
       "  background-color: #5977e3;\n",
       "  color: #f1f1f1;\n",
       "}\n",
       "#T_fefce_row3_col8 {\n",
       "  background-color: #90b2fe;\n",
       "  color: #000000;\n",
       "}\n",
       "#T_fefce_row3_col9 {\n",
       "  background-color: #84a7fc;\n",
       "  color: #f1f1f1;\n",
       "}\n",
       "#T_fefce_row4_col0, #T_fefce_row8_col5 {\n",
       "  background-color: #6b8df0;\n",
       "  color: #f1f1f1;\n",
       "}\n",
       "#T_fefce_row4_col5 {\n",
       "  background-color: #445acc;\n",
       "  color: #f1f1f1;\n",
       "}\n",
       "#T_fefce_row4_col6 {\n",
       "  background-color: #3d50c3;\n",
       "  color: #f1f1f1;\n",
       "}\n",
       "#T_fefce_row4_col7, #T_fefce_row5_col3 {\n",
       "  background-color: #4055c8;\n",
       "  color: #f1f1f1;\n",
       "}\n",
       "#T_fefce_row4_col9 {\n",
       "  background-color: #7da0f9;\n",
       "  color: #f1f1f1;\n",
       "}\n",
       "#T_fefce_row4_col10, #T_fefce_row6_col5, #T_fefce_row9_col3, #T_fefce_row9_col7 {\n",
       "  background-color: #3e51c5;\n",
       "  color: #f1f1f1;\n",
       "}\n",
       "#T_fefce_row5_col0 {\n",
       "  background-color: #688aef;\n",
       "  color: #f1f1f1;\n",
       "}\n",
       "#T_fefce_row5_col8 {\n",
       "  background-color: #a3c2fe;\n",
       "  color: #000000;\n",
       "}\n",
       "#T_fefce_row5_col9 {\n",
       "  background-color: #7b9ff9;\n",
       "  color: #f1f1f1;\n",
       "}\n",
       "#T_fefce_row6_col0 {\n",
       "  background-color: #799cf8;\n",
       "  color: #f1f1f1;\n",
       "}\n",
       "#T_fefce_row6_col1, #T_fefce_row7_col1 {\n",
       "  background-color: #536edd;\n",
       "  color: #f1f1f1;\n",
       "}\n",
       "#T_fefce_row6_col8 {\n",
       "  background-color: #c7d7f0;\n",
       "  color: #000000;\n",
       "}\n",
       "#T_fefce_row6_col9 {\n",
       "  background-color: #86a9fc;\n",
       "  color: #f1f1f1;\n",
       "}\n",
       "#T_fefce_row6_col10, #T_fefce_row9_col4, #T_fefce_row9_col6 {\n",
       "  background-color: #455cce;\n",
       "  color: #f1f1f1;\n",
       "}\n",
       "#T_fefce_row7_col0 {\n",
       "  background-color: #7ea1fa;\n",
       "  color: #f1f1f1;\n",
       "}\n",
       "#T_fefce_row7_col5, #T_fefce_row9_col5 {\n",
       "  background-color: #3f53c6;\n",
       "  color: #f1f1f1;\n",
       "}\n",
       "#T_fefce_row7_col8 {\n",
       "  background-color: #dbdcde;\n",
       "  color: #000000;\n",
       "}\n",
       "#T_fefce_row7_col10, #T_fefce_row8_col3, #T_fefce_row10_col7 {\n",
       "  background-color: #4c66d6;\n",
       "  color: #f1f1f1;\n",
       "}\n",
       "#T_fefce_row8_col1, #T_fefce_row9_col2 {\n",
       "  background-color: #5e7de7;\n",
       "  color: #f1f1f1;\n",
       "}\n",
       "#T_fefce_row8_col6 {\n",
       "  background-color: #97b8ff;\n",
       "  color: #000000;\n",
       "}\n",
       "#T_fefce_row8_col7 {\n",
       "  background-color: #b5cdfa;\n",
       "  color: #000000;\n",
       "}\n",
       "#T_fefce_row9_col0 {\n",
       "  background-color: #7597f6;\n",
       "  color: #f1f1f1;\n",
       "}\n",
       "#T_fefce_row10_col0 {\n",
       "  background-color: #7699f6;\n",
       "  color: #f1f1f1;\n",
       "}\n",
       "#T_fefce_row10_col4 {\n",
       "  background-color: #4961d2;\n",
       "  color: #f1f1f1;\n",
       "}\n",
       "#T_fefce_row10_col8 {\n",
       "  background-color: #adc9fd;\n",
       "  color: #000000;\n",
       "}\n",
       "</style>\n",
       "<table id=\"T_fefce\">\n",
       "  <thead>\n",
       "    <tr>\n",
       "      <th class=\"blank level0\" >&nbsp;</th>\n",
       "      <th id=\"T_fefce_level0_col0\" class=\"col_heading level0 col0\" >age</th>\n",
       "      <th id=\"T_fefce_level0_col1\" class=\"col_heading level0 col1\" >height_cm</th>\n",
       "      <th id=\"T_fefce_level0_col2\" class=\"col_heading level0 col2\" >weight_kg</th>\n",
       "      <th id=\"T_fefce_level0_col3\" class=\"col_heading level0 col3\" >heart_rate</th>\n",
       "      <th id=\"T_fefce_level0_col4\" class=\"col_heading level0 col4\" >blood_pressure</th>\n",
       "      <th id=\"T_fefce_level0_col5\" class=\"col_heading level0 col5\" >sleep_hours</th>\n",
       "      <th id=\"T_fefce_level0_col6\" class=\"col_heading level0 col6\" >nutrition_quality</th>\n",
       "      <th id=\"T_fefce_level0_col7\" class=\"col_heading level0 col7\" >activity_index</th>\n",
       "      <th id=\"T_fefce_level0_col8\" class=\"col_heading level0 col8\" >is_fit</th>\n",
       "      <th id=\"T_fefce_level0_col9\" class=\"col_heading level0 col9\" >smokesEncoded</th>\n",
       "      <th id=\"T_fefce_level0_col10\" class=\"col_heading level0 col10\" >genderEncoded</th>\n",
       "    </tr>\n",
       "  </thead>\n",
       "  <tbody>\n",
       "    <tr>\n",
       "      <th id=\"T_fefce_level0_row0\" class=\"row_heading level0 row0\" >age</th>\n",
       "      <td id=\"T_fefce_row0_col0\" class=\"data row0 col0\" >1.000000</td>\n",
       "      <td id=\"T_fefce_row0_col1\" class=\"data row0 col1\" >0.017247</td>\n",
       "      <td id=\"T_fefce_row0_col2\" class=\"data row0 col2\" >0.034676</td>\n",
       "      <td id=\"T_fefce_row0_col3\" class=\"data row0 col3\" >-0.013348</td>\n",
       "      <td id=\"T_fefce_row0_col4\" class=\"data row0 col4\" >-0.035269</td>\n",
       "      <td id=\"T_fefce_row0_col5\" class=\"data row0 col5\" >-0.047307</td>\n",
       "      <td id=\"T_fefce_row0_col6\" class=\"data row0 col6\" >0.010578</td>\n",
       "      <td id=\"T_fefce_row0_col7\" class=\"data row0 col7\" >0.029321</td>\n",
       "      <td id=\"T_fefce_row0_col8\" class=\"data row0 col8\" >-0.225957</td>\n",
       "      <td id=\"T_fefce_row0_col9\" class=\"data row0 col9\" >-0.005101</td>\n",
       "      <td id=\"T_fefce_row0_col10\" class=\"data row0 col10\" >-0.000570</td>\n",
       "    </tr>\n",
       "    <tr>\n",
       "      <th id=\"T_fefce_level0_row1\" class=\"row_heading level0 row1\" >height_cm</th>\n",
       "      <td id=\"T_fefce_row1_col0\" class=\"data row1 col0\" >0.017247</td>\n",
       "      <td id=\"T_fefce_row1_col1\" class=\"data row1 col1\" >1.000000</td>\n",
       "      <td id=\"T_fefce_row1_col2\" class=\"data row1 col2\" >0.021210</td>\n",
       "      <td id=\"T_fefce_row1_col3\" class=\"data row1 col3\" >-0.012824</td>\n",
       "      <td id=\"T_fefce_row1_col4\" class=\"data row1 col4\" >-0.059405</td>\n",
       "      <td id=\"T_fefce_row1_col5\" class=\"data row1 col5\" >-0.000469</td>\n",
       "      <td id=\"T_fefce_row1_col6\" class=\"data row1 col6\" >0.023707</td>\n",
       "      <td id=\"T_fefce_row1_col7\" class=\"data row1 col7\" >0.025397</td>\n",
       "      <td id=\"T_fefce_row1_col8\" class=\"data row1 col8\" >0.062280</td>\n",
       "      <td id=\"T_fefce_row1_col9\" class=\"data row1 col9\" >0.012773</td>\n",
       "      <td id=\"T_fefce_row1_col10\" class=\"data row1 col10\" >-0.026940</td>\n",
       "    </tr>\n",
       "    <tr>\n",
       "      <th id=\"T_fefce_level0_row2\" class=\"row_heading level0 row2\" >weight_kg</th>\n",
       "      <td id=\"T_fefce_row2_col0\" class=\"data row2 col0\" >0.034676</td>\n",
       "      <td id=\"T_fefce_row2_col1\" class=\"data row2 col1\" >0.021210</td>\n",
       "      <td id=\"T_fefce_row2_col2\" class=\"data row2 col2\" >1.000000</td>\n",
       "      <td id=\"T_fefce_row2_col3\" class=\"data row2 col3\" >-0.020064</td>\n",
       "      <td id=\"T_fefce_row2_col4\" class=\"data row2 col4\" >0.006434</td>\n",
       "      <td id=\"T_fefce_row2_col5\" class=\"data row2 col5\" >-0.001396</td>\n",
       "      <td id=\"T_fefce_row2_col6\" class=\"data row2 col6\" >-0.003022</td>\n",
       "      <td id=\"T_fefce_row2_col7\" class=\"data row2 col7\" >-0.029206</td>\n",
       "      <td id=\"T_fefce_row2_col8\" class=\"data row2 col8\" >-0.075702</td>\n",
       "      <td id=\"T_fefce_row2_col9\" class=\"data row2 col9\" >0.046780</td>\n",
       "      <td id=\"T_fefce_row2_col10\" class=\"data row2 col10\" >-0.019191</td>\n",
       "    </tr>\n",
       "    <tr>\n",
       "      <th id=\"T_fefce_level0_row3\" class=\"row_heading level0 row3\" >heart_rate</th>\n",
       "      <td id=\"T_fefce_row3_col0\" class=\"data row3 col0\" >-0.013348</td>\n",
       "      <td id=\"T_fefce_row3_col1\" class=\"data row3 col1\" >-0.012824</td>\n",
       "      <td id=\"T_fefce_row3_col2\" class=\"data row3 col2\" >-0.020064</td>\n",
       "      <td id=\"T_fefce_row3_col3\" class=\"data row3 col3\" >1.000000</td>\n",
       "      <td id=\"T_fefce_row3_col4\" class=\"data row3 col4\" >0.038797</td>\n",
       "      <td id=\"T_fefce_row3_col5\" class=\"data row3 col5\" >0.000365</td>\n",
       "      <td id=\"T_fefce_row3_col6\" class=\"data row3 col6\" >0.009649</td>\n",
       "      <td id=\"T_fefce_row3_col7\" class=\"data row3 col7\" >0.039626</td>\n",
       "      <td id=\"T_fefce_row3_col8\" class=\"data row3 col8\" >0.042623</td>\n",
       "      <td id=\"T_fefce_row3_col9\" class=\"data row3 col9\" >-0.004207</td>\n",
       "      <td id=\"T_fefce_row3_col10\" class=\"data row3 col10\" >0.027608</td>\n",
       "    </tr>\n",
       "    <tr>\n",
       "      <th id=\"T_fefce_level0_row4\" class=\"row_heading level0 row4\" >blood_pressure</th>\n",
       "      <td id=\"T_fefce_row4_col0\" class=\"data row4 col0\" >-0.035269</td>\n",
       "      <td id=\"T_fefce_row4_col1\" class=\"data row4 col1\" >-0.059405</td>\n",
       "      <td id=\"T_fefce_row4_col2\" class=\"data row4 col2\" >0.006434</td>\n",
       "      <td id=\"T_fefce_row4_col3\" class=\"data row4 col3\" >0.038797</td>\n",
       "      <td id=\"T_fefce_row4_col4\" class=\"data row4 col4\" >1.000000</td>\n",
       "      <td id=\"T_fefce_row4_col5\" class=\"data row4 col5\" >-0.011157</td>\n",
       "      <td id=\"T_fefce_row4_col6\" class=\"data row4 col6\" >-0.023479</td>\n",
       "      <td id=\"T_fefce_row4_col7\" class=\"data row4 col7\" >-0.006395</td>\n",
       "      <td id=\"T_fefce_row4_col8\" class=\"data row4 col8\" >-0.065821</td>\n",
       "      <td id=\"T_fefce_row4_col9\" class=\"data row4 col9\" >-0.025241</td>\n",
       "      <td id=\"T_fefce_row4_col10\" class=\"data row4 col10\" >-0.014457</td>\n",
       "    </tr>\n",
       "    <tr>\n",
       "      <th id=\"T_fefce_level0_row5\" class=\"row_heading level0 row5\" >sleep_hours</th>\n",
       "      <td id=\"T_fefce_row5_col0\" class=\"data row5 col0\" >-0.047307</td>\n",
       "      <td id=\"T_fefce_row5_col1\" class=\"data row5 col1\" >-0.000469</td>\n",
       "      <td id=\"T_fefce_row5_col2\" class=\"data row5 col2\" >-0.001396</td>\n",
       "      <td id=\"T_fefce_row5_col3\" class=\"data row5 col3\" >0.000365</td>\n",
       "      <td id=\"T_fefce_row5_col4\" class=\"data row5 col4\" >-0.011157</td>\n",
       "      <td id=\"T_fefce_row5_col5\" class=\"data row5 col5\" >1.000000</td>\n",
       "      <td id=\"T_fefce_row5_col6\" class=\"data row5 col6\" >-0.031782</td>\n",
       "      <td id=\"T_fefce_row5_col7\" class=\"data row5 col7\" >-0.029370</td>\n",
       "      <td id=\"T_fefce_row5_col8\" class=\"data row5 col8\" >0.112868</td>\n",
       "      <td id=\"T_fefce_row5_col9\" class=\"data row5 col9\" >-0.029884</td>\n",
       "      <td id=\"T_fefce_row5_col10\" class=\"data row5 col10\" >0.032219</td>\n",
       "    </tr>\n",
       "    <tr>\n",
       "      <th id=\"T_fefce_level0_row6\" class=\"row_heading level0 row6\" >nutrition_quality</th>\n",
       "      <td id=\"T_fefce_row6_col0\" class=\"data row6 col0\" >0.010578</td>\n",
       "      <td id=\"T_fefce_row6_col1\" class=\"data row6 col1\" >0.023707</td>\n",
       "      <td id=\"T_fefce_row6_col2\" class=\"data row6 col2\" >-0.003022</td>\n",
       "      <td id=\"T_fefce_row6_col3\" class=\"data row6 col3\" >0.009649</td>\n",
       "      <td id=\"T_fefce_row6_col4\" class=\"data row6 col4\" >-0.023479</td>\n",
       "      <td id=\"T_fefce_row6_col5\" class=\"data row6 col5\" >-0.031782</td>\n",
       "      <td id=\"T_fefce_row6_col6\" class=\"data row6 col6\" >1.000000</td>\n",
       "      <td id=\"T_fefce_row6_col7\" class=\"data row6 col7\" >0.026765</td>\n",
       "      <td id=\"T_fefce_row6_col8\" class=\"data row6 col8\" >0.256299</td>\n",
       "      <td id=\"T_fefce_row6_col9\" class=\"data row6 col9\" >0.007809</td>\n",
       "      <td id=\"T_fefce_row6_col10\" class=\"data row6 col10\" >0.011222</td>\n",
       "    </tr>\n",
       "    <tr>\n",
       "      <th id=\"T_fefce_level0_row7\" class=\"row_heading level0 row7\" >activity_index</th>\n",
       "      <td id=\"T_fefce_row7_col0\" class=\"data row7 col0\" >0.029321</td>\n",
       "      <td id=\"T_fefce_row7_col1\" class=\"data row7 col1\" >0.025397</td>\n",
       "      <td id=\"T_fefce_row7_col2\" class=\"data row7 col2\" >-0.029206</td>\n",
       "      <td id=\"T_fefce_row7_col3\" class=\"data row7 col3\" >0.039626</td>\n",
       "      <td id=\"T_fefce_row7_col4\" class=\"data row7 col4\" >-0.006395</td>\n",
       "      <td id=\"T_fefce_row7_col5\" class=\"data row7 col5\" >-0.029370</td>\n",
       "      <td id=\"T_fefce_row7_col6\" class=\"data row7 col6\" >0.026765</td>\n",
       "      <td id=\"T_fefce_row7_col7\" class=\"data row7 col7\" >1.000000</td>\n",
       "      <td id=\"T_fefce_row7_col8\" class=\"data row7 col8\" >0.344990</td>\n",
       "      <td id=\"T_fefce_row7_col9\" class=\"data row7 col9\" >-0.015474</td>\n",
       "      <td id=\"T_fefce_row7_col10\" class=\"data row7 col10\" >0.033996</td>\n",
       "    </tr>\n",
       "    <tr>\n",
       "      <th id=\"T_fefce_level0_row8\" class=\"row_heading level0 row8\" >is_fit</th>\n",
       "      <td id=\"T_fefce_row8_col0\" class=\"data row8 col0\" >-0.225957</td>\n",
       "      <td id=\"T_fefce_row8_col1\" class=\"data row8 col1\" >0.062280</td>\n",
       "      <td id=\"T_fefce_row8_col2\" class=\"data row8 col2\" >-0.075702</td>\n",
       "      <td id=\"T_fefce_row8_col3\" class=\"data row8 col3\" >0.042623</td>\n",
       "      <td id=\"T_fefce_row8_col4\" class=\"data row8 col4\" >-0.065821</td>\n",
       "      <td id=\"T_fefce_row8_col5\" class=\"data row8 col5\" >0.112868</td>\n",
       "      <td id=\"T_fefce_row8_col6\" class=\"data row8 col6\" >0.256299</td>\n",
       "      <td id=\"T_fefce_row8_col7\" class=\"data row8 col7\" >0.344990</td>\n",
       "      <td id=\"T_fefce_row8_col8\" class=\"data row8 col8\" >1.000000</td>\n",
       "      <td id=\"T_fefce_row8_col9\" class=\"data row8 col9\" >-0.292212</td>\n",
       "      <td id=\"T_fefce_row8_col10\" class=\"data row8 col10\" >0.150176</td>\n",
       "    </tr>\n",
       "    <tr>\n",
       "      <th id=\"T_fefce_level0_row9\" class=\"row_heading level0 row9\" >smokesEncoded</th>\n",
       "      <td id=\"T_fefce_row9_col0\" class=\"data row9 col0\" >-0.005101</td>\n",
       "      <td id=\"T_fefce_row9_col1\" class=\"data row9 col1\" >0.012773</td>\n",
       "      <td id=\"T_fefce_row9_col2\" class=\"data row9 col2\" >0.046780</td>\n",
       "      <td id=\"T_fefce_row9_col3\" class=\"data row9 col3\" >-0.004207</td>\n",
       "      <td id=\"T_fefce_row9_col4\" class=\"data row9 col4\" >-0.025241</td>\n",
       "      <td id=\"T_fefce_row9_col5\" class=\"data row9 col5\" >-0.029884</td>\n",
       "      <td id=\"T_fefce_row9_col6\" class=\"data row9 col6\" >0.007809</td>\n",
       "      <td id=\"T_fefce_row9_col7\" class=\"data row9 col7\" >-0.015474</td>\n",
       "      <td id=\"T_fefce_row9_col8\" class=\"data row9 col8\" >-0.292212</td>\n",
       "      <td id=\"T_fefce_row9_col9\" class=\"data row9 col9\" >1.000000</td>\n",
       "      <td id=\"T_fefce_row9_col10\" class=\"data row9 col10\" >0.014612</td>\n",
       "    </tr>\n",
       "    <tr>\n",
       "      <th id=\"T_fefce_level0_row10\" class=\"row_heading level0 row10\" >genderEncoded</th>\n",
       "      <td id=\"T_fefce_row10_col0\" class=\"data row10 col0\" >-0.000570</td>\n",
       "      <td id=\"T_fefce_row10_col1\" class=\"data row10 col1\" >-0.026940</td>\n",
       "      <td id=\"T_fefce_row10_col2\" class=\"data row10 col2\" >-0.019191</td>\n",
       "      <td id=\"T_fefce_row10_col3\" class=\"data row10 col3\" >0.027608</td>\n",
       "      <td id=\"T_fefce_row10_col4\" class=\"data row10 col4\" >-0.014457</td>\n",
       "      <td id=\"T_fefce_row10_col5\" class=\"data row10 col5\" >0.032219</td>\n",
       "      <td id=\"T_fefce_row10_col6\" class=\"data row10 col6\" >0.011222</td>\n",
       "      <td id=\"T_fefce_row10_col7\" class=\"data row10 col7\" >0.033996</td>\n",
       "      <td id=\"T_fefce_row10_col8\" class=\"data row10 col8\" >0.150176</td>\n",
       "      <td id=\"T_fefce_row10_col9\" class=\"data row10 col9\" >0.014612</td>\n",
       "      <td id=\"T_fefce_row10_col10\" class=\"data row10 col10\" >1.000000</td>\n",
       "    </tr>\n",
       "  </tbody>\n",
       "</table>\n"
      ],
      "text/plain": [
       "<pandas.io.formats.style.Styler at 0x215b5ba0d40>"
      ]
     },
     "execution_count": 105,
     "metadata": {},
     "output_type": "execute_result"
    }
   ],
   "source": [
    "df.corr(method='pearson', min_periods=1).style.background_gradient(cmap='coolwarm')"
   ]
  },
  {
   "cell_type": "markdown",
   "id": "9a5c7bd5",
   "metadata": {},
   "source": [
    "After analyzing the correlation matrix, I came to the conclusion that the atributes that will certainly have more impact, either positive or negative, are nutrition quality (positive), activity index (positive) and smokes (negative).\n",
    "\n",
    "I need to have age in attention too, but, in my opinion, age can't define directly if you are fit or not!"
   ]
  },
  {
   "cell_type": "code",
   "execution_count": 106,
   "id": "378fc136",
   "metadata": {},
   "outputs": [
    {
     "name": "stdout",
     "output_type": "stream",
     "text": [
      "<class 'pandas.core.frame.DataFrame'>\n",
      "Index: 1790 entries, 1 to 1999\n",
      "Data columns (total 11 columns):\n",
      " #   Column             Non-Null Count  Dtype  \n",
      "---  ------             --------------  -----  \n",
      " 0   age                1790 non-null   int64  \n",
      " 1   height_cm          1790 non-null   int64  \n",
      " 2   weight_kg          1790 non-null   int64  \n",
      " 3   heart_rate         1790 non-null   float64\n",
      " 4   blood_pressure     1790 non-null   float64\n",
      " 5   sleep_hours        1790 non-null   float64\n",
      " 6   nutrition_quality  1790 non-null   float64\n",
      " 7   activity_index     1790 non-null   float64\n",
      " 8   is_fit             1790 non-null   int64  \n",
      " 9   smokesEncoded      1790 non-null   int32  \n",
      " 10  genderEncoded      1790 non-null   int32  \n",
      "dtypes: float64(5), int32(2), int64(4)\n",
      "memory usage: 153.8 KB\n",
      "None\n"
     ]
    }
   ],
   "source": [
    "print(df.info())"
   ]
  },
  {
   "cell_type": "markdown",
   "id": "55ba34b6",
   "metadata": {},
   "source": [
    "## Removing duplicates"
   ]
  },
  {
   "cell_type": "code",
   "execution_count": 107,
   "id": "e1971980",
   "metadata": {},
   "outputs": [
    {
     "name": "stdout",
     "output_type": "stream",
     "text": [
      "(1790, 11)\n"
     ]
    }
   ],
   "source": [
    "df = df.drop_duplicates()\n",
    "print(df.shape)"
   ]
  }
 ],
 "metadata": {
  "kernelspec": {
   "display_name": "Python 3",
   "language": "python",
   "name": "python3"
  },
  "language_info": {
   "codemirror_mode": {
    "name": "ipython",
    "version": 3
   },
   "file_extension": ".py",
   "mimetype": "text/x-python",
   "name": "python",
   "nbconvert_exporter": "python",
   "pygments_lexer": "ipython3",
   "version": "3.12.0"
  }
 },
 "nbformat": 4,
 "nbformat_minor": 5
}
